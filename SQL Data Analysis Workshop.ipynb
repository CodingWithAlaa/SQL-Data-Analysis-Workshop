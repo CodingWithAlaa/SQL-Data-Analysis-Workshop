{
 "cells": [
  {
   "cell_type": "markdown",
   "id": "e3aa946d-e234-4b01-ae16-e1b55abe91f8",
   "metadata": {},
   "source": [
    "# SQL Data Analysis Workshop"
   ]
  },
  {
   "cell_type": "markdown",
   "id": "84f4078a-c112-4360-8f72-72712c09b956",
   "metadata": {},
   "source": [
    " This workshop is designed to help you build practical SQL skills by analyzing real-world business data. \n",
    "     \n",
    "The tasks are divided into 4 levels to gradually progress from basic data retrieval to advanced analysis. Each level focuses on specific SQL concepts and challenges, allowing you to practice query writing, data filtering, aggregations, joins, and subqueries.\n",
    "- Level 1: Basic SQL queries (SELECT, WHERE, ORDER BY, COUNT).\n",
    "- Level 2: Aggregations (SUM, AVG, GROUP BY) and basic joins.\n",
    "- Level 3: Complex joins, subqueries, and multi-table analysis.\n",
    "- Level 4: Advanced analytical tasks focused on complex queries, subqueries, and aggregations..\n",
    "\n",
    "This structured approach ensures you build confidence and expertise in SQL, preparing you for real-world data analysis challenges. 🚀\n"
   ]
  },
  {
   "cell_type": "markdown",
   "id": "30bd971e-f86d-4d33-a650-6c486b105981",
   "metadata": {},
   "source": [
    "---\n",
    "## Setup the work environment "
   ]
  },
  {
   "cell_type": "markdown",
   "id": "38b7b5ea-4b97-4e90-88ac-ef1c0c36ddf2",
   "metadata": {},
   "source": [
    "#### 1. Library's import"
   ]
  },
  {
   "cell_type": "code",
   "execution_count": null,
   "id": "dfcdb129-50f1-4945-b538-0e22ee5d1eae",
   "metadata": {},
   "outputs": [],
   "source": []
  },
  {
   "cell_type": "markdown",
   "id": "0744a6dd-a931-4392-9d05-ab489b397cce",
   "metadata": {},
   "source": [
    "#### 2. Connecting to the Database\n"
   ]
  },
  {
   "cell_type": "code",
   "execution_count": null,
   "id": "366f344e-c81c-4460-bd9a-ed22e302ba86",
   "metadata": {},
   "outputs": [],
   "source": []
  },
  {
   "cell_type": "markdown",
   "id": "b3575366-ef65-4037-a01c-ca4b7064616e",
   "metadata": {},
   "source": [
    "#### 3. Setup for SQL Magic"
   ]
  },
  {
   "cell_type": "code",
   "execution_count": null,
   "id": "e7c38ef5-a4f4-43ae-858a-f1682cffdbe0",
   "metadata": {},
   "outputs": [],
   "source": []
  },
  {
   "cell_type": "code",
   "execution_count": null,
   "id": "77901c9f-58a6-482a-b1c7-bffa76f48730",
   "metadata": {},
   "outputs": [],
   "source": []
  },
  {
   "cell_type": "code",
   "execution_count": null,
   "id": "14800883-0648-40d6-8da5-787384b32dc9",
   "metadata": {},
   "outputs": [],
   "source": []
  },
  {
   "cell_type": "markdown",
   "id": "6c6ad13a-056c-414a-a88b-9ed01e4fa452",
   "metadata": {},
   "source": [
    "\n",
    "---\n",
    "## Level 1: Beginner – Basic Queries (using SQL Magic)\r\n"
   ]
  },
  {
   "cell_type": "markdown",
   "id": "b2f519e8-05ce-47c0-8a17-55054704578f",
   "metadata": {},
   "source": [
    "### Task 1: Retrieve all rows and columns from the customers table.\n",
    "\n"
   ]
  },
  {
   "cell_type": "code",
   "execution_count": null,
   "id": "609d3125-7265-4898-a637-262d9f9876fd",
   "metadata": {},
   "outputs": [],
   "source": []
  },
  {
   "cell_type": "markdown",
   "id": "d370d8c8-c377-4e19-98a4-8fd6f7c5ae28",
   "metadata": {},
   "source": [
    "### Task 2: Retrieve customers who live in the city \"New York\"."
   ]
  },
  {
   "cell_type": "code",
   "execution_count": null,
   "id": "998b5eb6-07f3-4b14-96fe-72af50c782d3",
   "metadata": {},
   "outputs": [],
   "source": []
  },
  {
   "cell_type": "markdown",
   "id": "a0ddadd5-5a5a-4014-a4dc-9768d4f96219",
   "metadata": {},
   "source": [
    "### Task 3: Retrieve all products sorted by their price in descending order.\n",
    "\n"
   ]
  },
  {
   "cell_type": "code",
   "execution_count": null,
   "id": "0f073284-1609-4a68-98dd-0f8641dc6424",
   "metadata": {},
   "outputs": [],
   "source": []
  },
  {
   "cell_type": "markdown",
   "id": "d7374113-e920-44a7-8db8-c30e744123ef",
   "metadata": {},
   "source": [
    "### Task 4: Find Orders by Status\n"
   ]
  },
  {
   "cell_type": "markdown",
   "id": "dfecdc13-17a0-4d1c-a560-0bf323b01155",
   "metadata": {},
   "source": [
    "#### Task 4.1: Retrieve all orders with status \"Completed\".\r\n"
   ]
  },
  {
   "cell_type": "code",
   "execution_count": null,
   "id": "72faaf68-51b0-4519-a9f2-49093f17cc63",
   "metadata": {},
   "outputs": [],
   "source": []
  },
  {
   "cell_type": "markdown",
   "id": "5b7ab6db-87b0-40b9-bd1f-6f0b7a66109b",
   "metadata": {},
   "source": [
    "#### Task 4.1: Retrieve count of orders with status \"Rejected\".\n",
    "\n"
   ]
  },
  {
   "cell_type": "code",
   "execution_count": null,
   "id": "d857e8f8-7695-4e3e-9e5c-142671316067",
   "metadata": {},
   "outputs": [],
   "source": []
  },
  {
   "cell_type": "markdown",
   "id": "6ed32c13-fb2b-4ee9-845c-c03eade4c092",
   "metadata": {},
   "source": [
    "### Task 5: Count how many customers exist in the customers table."
   ]
  },
  {
   "cell_type": "code",
   "execution_count": null,
   "id": "0de2f3e6-f2b2-4b52-97c7-538082c936a9",
   "metadata": {},
   "outputs": [],
   "source": [
    "\n"
   ]
  },
  {
   "cell_type": "markdown",
   "id": "740a8f32-a5dc-4902-9c57-6bd13434b809",
   "metadata": {
    "jp-MarkdownHeadingCollapsed": true
   },
   "source": [
    "---\n",
    "## Level 2: Intermediate – Aggregations and Basic Joins\n",
    "##### (Task 1,2,3 using Pandas read_sql and Task 4,5 using execute and fetchall() in mysql.connector)"
   ]
  },
  {
   "cell_type": "markdown",
   "id": "f26b73c5-e4e8-4983-96df-98de8f086f41",
   "metadata": {},
   "source": [
    "### Task 1: Calculate the total revenue (sum of list_price * quantity) from the order_items table.\r\n"
   ]
  },
  {
   "cell_type": "code",
   "execution_count": null,
   "id": "8b8eb29a-4a6d-4998-ac70-97e9362de76c",
   "metadata": {},
   "outputs": [],
   "source": []
  },
  {
   "cell_type": "markdown",
   "id": "745121b5-c276-4bac-95a2-837e24e014fe",
   "metadata": {},
   "source": [
    "### Task 2: Calculate the average price of products in the products table.\n"
   ]
  },
  {
   "cell_type": "code",
   "execution_count": null,
   "id": "b47e4c65-5253-430d-aef7-58db59da0784",
   "metadata": {},
   "outputs": [],
   "source": []
  },
  {
   "cell_type": "markdown",
   "id": "778d94f0-e3c0-4a95-9bed-a3ee280663e4",
   "metadata": {},
   "source": [
    "### Task 3: Retrieve the number of orders placed by each customer.\n"
   ]
  },
  {
   "cell_type": "code",
   "execution_count": null,
   "id": "35e5b9c6-6dea-4eb7-9319-b2bb90f94c4a",
   "metadata": {},
   "outputs": [],
   "source": []
  },
  {
   "cell_type": "markdown",
   "id": "0c8ff71a-d2ef-4393-b3da-c37d4120880b",
   "metadata": {},
   "source": [
    "### Task 4: Join Orders with Customers\n"
   ]
  },
  {
   "cell_type": "markdown",
   "id": "12c12fee-cc1a-4d3b-a95c-60864e28cb32",
   "metadata": {},
   "source": [
    "#### Task 4.1: Retrieve customer names along with their order IDs."
   ]
  },
  {
   "cell_type": "code",
   "execution_count": null,
   "id": "2e690d51-b061-4723-b1d1-91af890b2a16",
   "metadata": {},
   "outputs": [],
   "source": []
  },
  {
   "cell_type": "markdown",
   "id": "bd27af88-a4a2-427d-8757-701f908762f5",
   "metadata": {},
   "source": [
    "#### Task 4.2: Retrieve Customer Names with Order IDs and Total Orders"
   ]
  },
  {
   "cell_type": "code",
   "execution_count": null,
   "id": "5a2acfa7-e002-4ca8-b2c2-bc8e7f605a9f",
   "metadata": {},
   "outputs": [],
   "source": []
  },
  {
   "cell_type": "markdown",
   "id": "e2041c9a-83f4-4d35-95da-6cd070be48ca",
   "metadata": {},
   "source": [
    "### Task 5: Retrieve products with stock quantities less than 50."
   ]
  },
  {
   "cell_type": "code",
   "execution_count": null,
   "id": "2611ea83-158e-4177-b86c-ffa9df804204",
   "metadata": {},
   "outputs": [],
   "source": []
  },
  {
   "cell_type": "markdown",
   "id": "e8eb4cae-f61e-43bc-9e45-cd57aa1255ee",
   "metadata": {
    "jp-MarkdownHeadingCollapsed": true
   },
   "source": [
    "---\n",
    "\n",
    "## Level 3: Advanced – Complex Joins and Subqueries\n",
    "(using Pandas read_sql)"
   ]
  },
  {
   "cell_type": "markdown",
   "id": "598b59c6-75eb-4fed-bad7-2b3fa8e348d3",
   "metadata": {
    "jp-MarkdownHeadingCollapsed": true
   },
   "source": [
    "### Task 1: Retrieve the Top 5 Products with the Highest Total Sales Revenue\n"
   ]
  },
  {
   "cell_type": "code",
   "execution_count": null,
   "id": "116d45ad-5c41-4e59-9270-cdabcbbf7e7c",
   "metadata": {},
   "outputs": [],
   "source": []
  },
  {
   "cell_type": "markdown",
   "id": "e902c5fd-97e7-466a-8f21-a7fbdd4914e8",
   "metadata": {},
   "source": [
    "### Task 2: Find the Customers Who Placed the Most Orders in June, November 2018\n"
   ]
  },
  {
   "cell_type": "code",
   "execution_count": null,
   "id": "4b7e66fb-ab15-40e8-a4e6-40c0ce07de56",
   "metadata": {},
   "outputs": [],
   "source": []
  },
  {
   "cell_type": "markdown",
   "id": "64c4b07d-8473-4759-a597-ad5befb59f5d",
   "metadata": {},
   "source": [
    "### Task 3: List All Stores with Their Total Stock Quantities for All Products\n"
   ]
  },
  {
   "cell_type": "code",
   "execution_count": null,
   "id": "b19e80d3-6445-4298-913b-d896560c8778",
   "metadata": {},
   "outputs": [],
   "source": []
  },
  {
   "cell_type": "markdown",
   "id": "f3d6330d-dbae-4884-af2c-4b361e743424",
   "metadata": {},
   "source": [
    "### Task 4: Retrieve Staff Members Who Work at Stores Located in a Specific State\n",
    "California (CA) , New York (NY) , Texas (TX)\n"
   ]
  },
  {
   "cell_type": "code",
   "execution_count": null,
   "id": "9627c5ad-712b-44ca-b576-763f4908c3c4",
   "metadata": {},
   "outputs": [],
   "source": []
  },
  {
   "cell_type": "markdown",
   "id": "c0583c1d-4608-43a5-9d4d-bd985ecc15cf",
   "metadata": {},
   "source": [
    "### Task 5: Identify the Categories of Products with the Highest Total Revenue\n"
   ]
  },
  {
   "cell_type": "code",
   "execution_count": null,
   "id": "07b788f2-f406-4246-9e79-c7dc15430e2c",
   "metadata": {},
   "outputs": [],
   "source": []
  },
  {
   "cell_type": "markdown",
   "id": "75ad6c83-5fa1-4b1e-b31d-43f07628b225",
   "metadata": {},
   "source": [
    "---\n",
    "## Level 4: Expert – Advanced Analytical Queries\n",
    "(using Pandas read_sql)"
   ]
  },
  {
   "cell_type": "markdown",
   "id": "5400bb61-f164-4f6d-a930-024018adc7c5",
   "metadata": {},
   "source": [
    "### Task 1: Find the Store with the Highest Total Revenue\n",
    "Retrieve the store name and total revenue (sum of list_price * quantity) across all orders.\n",
    "\n",
    "\n"
   ]
  },
  {
   "cell_type": "code",
   "execution_count": null,
   "id": "948c8027-1332-4d62-9e0f-5d936a3f1dd4",
   "metadata": {},
   "outputs": [],
   "source": []
  },
  {
   "cell_type": "markdown",
   "id": "df3c6889-cfa5-4cad-9508-ba6959f69962",
   "metadata": {},
   "source": [
    "### Task 2: Find all products that have never been ordered.\n"
   ]
  },
  {
   "cell_type": "code",
   "execution_count": null,
   "id": "c76c8230-6e06-40b2-a15f-e614b66c8715",
   "metadata": {},
   "outputs": [],
   "source": []
  },
  {
   "cell_type": "markdown",
   "id": "ff817536-2351-4bcf-8d4a-6749b123aa0d",
   "metadata": {},
   "source": [
    "### Task 3: Identify the Customers Who Placed the Fewest Orders\n",
    "Retrieve customer names and their total order counts, ordered in ascending order of order count.\r\n",
    "\r\n",
    "\r\n"
   ]
  },
  {
   "cell_type": "code",
   "execution_count": null,
   "id": "a98277e3-a450-4fd5-a112-38835a070d02",
   "metadata": {},
   "outputs": [],
   "source": []
  },
  {
   "cell_type": "markdown",
   "id": "9adc0b14-34f9-4361-bc51-70159a630252",
   "metadata": {},
   "source": [
    "### Task 4: Analyze Monthly Revenue for the Last Year (Specific to 2017)\n"
   ]
  },
  {
   "cell_type": "code",
   "execution_count": null,
   "id": "05eab486-5115-46a7-9a0d-abc1a9eac967",
   "metadata": {},
   "outputs": [],
   "source": []
  },
  {
   "cell_type": "markdown",
   "id": "76619a32-54d5-4935-a050-3b4ff767cbe8",
   "metadata": {},
   "source": [
    "### Task 5: Find Products That Are Low in Stock Across All Stores\n",
    "Identify products where the total stock quantity (across all stores) is less than 100."
   ]
  },
  {
   "cell_type": "code",
   "execution_count": null,
   "id": "7b0b30be-92e3-4899-9ceb-bb8908dd39c4",
   "metadata": {},
   "outputs": [],
   "source": []
  },
  {
   "cell_type": "markdown",
   "id": "a7c785e7-eb99-4e06-8e98-1380778dbfe6",
   "metadata": {},
   "source": [
    "\n",
    "---\n",
    "\n",
    "## Level 5: Additional Advanced SQL\n",
    "(using Pandas read_sql)"
   ]
  },
  {
   "cell_type": "markdown",
   "id": "92319ddd-7313-4d84-b896-72340283f409",
   "metadata": {},
   "source": [
    "### Task 1: Aggregate Sales by City and State\n",
    "Write a query to calculate the total sales, average order value, and maximum order value for customers in each city and state.\r\n"
   ]
  },
  {
   "cell_type": "code",
   "execution_count": null,
   "id": "f33330f6-f019-49bf-85ae-47c5e5d7058d",
   "metadata": {},
   "outputs": [],
   "source": []
  },
  {
   "cell_type": "markdown",
   "id": "0af68f43-96b0-4159-8329-88f58a6d7a7c",
   "metadata": {},
   "source": [
    "### Task 2: Find Top-Selling Products in 2018\n",
    "Write a query to identify the products with the highest sales volume in the year 2018.\r\n",
    "\r\n",
    "\r\n"
   ]
  },
  {
   "cell_type": "code",
   "execution_count": null,
   "id": "c824ecb0-24f9-42ba-950a-40078caa58af",
   "metadata": {},
   "outputs": [],
   "source": []
  },
  {
   "cell_type": "markdown",
   "id": "471be669-513a-42dc-897a-f526e7c1f911",
   "metadata": {},
   "source": [
    "### Task 3: Calculate Month-over-Month Sales Growth\n",
    "Write a query to calculate the month-over-month sales growth for the past years.\r\n"
   ]
  },
  {
   "cell_type": "code",
   "execution_count": null,
   "id": "f63ffb06-5db0-4f54-967f-f91d393630dd",
   "metadata": {},
   "outputs": [],
   "source": []
  }
 ],
 "metadata": {
  "kernelspec": {
   "display_name": "Python 3 (ipykernel)",
   "language": "python",
   "name": "python3"
  },
  "language_info": {
   "codemirror_mode": {
    "name": "ipython",
    "version": 3
   },
   "file_extension": ".py",
   "mimetype": "text/x-python",
   "name": "python",
   "nbconvert_exporter": "python",
   "pygments_lexer": "ipython3",
   "version": "3.12.3"
  }
 },
 "nbformat": 4,
 "nbformat_minor": 5
}
